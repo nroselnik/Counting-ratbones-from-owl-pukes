{
  "nbformat": 4,
  "nbformat_minor": 0,
  "metadata": {
    "colab": {
      "provenance": [],
      "machine_shape": "hm",
      "gpuType": "T4",
      "authorship_tag": "ABX9TyP6HHgKe+Pb1ZE8hHlJX9OP",
      "include_colab_link": true
    },
    "kernelspec": {
      "name": "python3",
      "display_name": "Python 3"
    },
    "language_info": {
      "name": "python"
    },
    "accelerator": "GPU"
  },
  "cells": [
    {
      "cell_type": "markdown",
      "metadata": {
        "id": "view-in-github",
        "colab_type": "text"
      },
      "source": [
        "<a href=\"https://colab.research.google.com/github/nroselnik/Counting-ratbones-from-owl-pukes/blob/master/Complete_rat_bone_counter.ipynb\" target=\"_parent\"><img src=\"https://colab.research.google.com/assets/colab-badge.svg\" alt=\"Open In Colab\"/></a>"
      ]
    },
    {
      "cell_type": "code",
      "source": [
        "pip install Roboflow"
      ],
      "metadata": {
        "id": "iTqNkCQv00wI",
        "colab": {
          "base_uri": "https://localhost:8080/"
        },
        "outputId": "a9bf2930-c631-428c-e81e-e8f07baf6c28"
      },
      "execution_count": null,
      "outputs": [
        {
          "output_type": "stream",
          "name": "stdout",
          "text": [
            "Requirement already satisfied: Roboflow in /usr/local/lib/python3.10/dist-packages (1.1.26)\n",
            "Requirement already satisfied: certifi==2023.7.22 in /usr/local/lib/python3.10/dist-packages (from Roboflow) (2023.7.22)\n",
            "Requirement already satisfied: chardet==4.0.0 in /usr/local/lib/python3.10/dist-packages (from Roboflow) (4.0.0)\n",
            "Requirement already satisfied: cycler==0.10.0 in /usr/local/lib/python3.10/dist-packages (from Roboflow) (0.10.0)\n",
            "Requirement already satisfied: idna==2.10 in /usr/local/lib/python3.10/dist-packages (from Roboflow) (2.10)\n",
            "Requirement already satisfied: kiwisolver>=1.3.1 in /usr/local/lib/python3.10/dist-packages (from Roboflow) (1.4.5)\n",
            "Requirement already satisfied: matplotlib in /usr/local/lib/python3.10/dist-packages (from Roboflow) (3.7.1)\n",
            "Requirement already satisfied: numpy>=1.18.5 in /usr/local/lib/python3.10/dist-packages (from Roboflow) (1.25.2)\n",
            "Requirement already satisfied: opencv-python-headless==4.8.0.74 in /usr/local/lib/python3.10/dist-packages (from Roboflow) (4.8.0.74)\n",
            "Requirement already satisfied: Pillow>=7.1.2 in /usr/local/lib/python3.10/dist-packages (from Roboflow) (9.4.0)\n",
            "Requirement already satisfied: python-dateutil in /usr/local/lib/python3.10/dist-packages (from Roboflow) (2.8.2)\n",
            "Requirement already satisfied: python-dotenv in /usr/local/lib/python3.10/dist-packages (from Roboflow) (1.0.1)\n",
            "Requirement already satisfied: requests in /usr/local/lib/python3.10/dist-packages (from Roboflow) (2.31.0)\n",
            "Requirement already satisfied: six in /usr/local/lib/python3.10/dist-packages (from Roboflow) (1.16.0)\n",
            "Requirement already satisfied: urllib3>=1.26.6 in /usr/local/lib/python3.10/dist-packages (from Roboflow) (2.0.7)\n",
            "Requirement already satisfied: tqdm>=4.41.0 in /usr/local/lib/python3.10/dist-packages (from Roboflow) (4.66.2)\n",
            "Requirement already satisfied: PyYAML>=5.3.1 in /usr/local/lib/python3.10/dist-packages (from Roboflow) (6.0.1)\n",
            "Requirement already satisfied: requests-toolbelt in /usr/local/lib/python3.10/dist-packages (from Roboflow) (1.0.0)\n",
            "Requirement already satisfied: python-magic in /usr/local/lib/python3.10/dist-packages (from Roboflow) (0.4.27)\n",
            "Requirement already satisfied: contourpy>=1.0.1 in /usr/local/lib/python3.10/dist-packages (from matplotlib->Roboflow) (1.2.0)\n",
            "Requirement already satisfied: fonttools>=4.22.0 in /usr/local/lib/python3.10/dist-packages (from matplotlib->Roboflow) (4.50.0)\n",
            "Requirement already satisfied: packaging>=20.0 in /usr/local/lib/python3.10/dist-packages (from matplotlib->Roboflow) (24.0)\n",
            "Requirement already satisfied: pyparsing>=2.3.1 in /usr/local/lib/python3.10/dist-packages (from matplotlib->Roboflow) (3.1.2)\n",
            "Requirement already satisfied: charset-normalizer<4,>=2 in /usr/local/lib/python3.10/dist-packages (from requests->Roboflow) (3.3.2)\n"
          ]
        }
      ]
    },
    {
      "cell_type": "markdown",
      "source": [
        "This portion of the code evaluates a single image. This image can be uploaded to the colab notebook or mounted inside a google drive folder. Make sure only images are in the folder. If there are other types of file, the code would likely crash."
      ],
      "metadata": {
        "id": "83xfNTCJCDfY"
      }
    },
    {
      "cell_type": "code",
      "source": [
        "from roboflow import Roboflow\n",
        "# API key is unique and must be requested from the author\n",
        "rf = Roboflow(api_key=\"USE YOUR OWN KEY")\n",
        "project = rf.workspace().project(\"rat-bones-object-detect-count\")\n",
        "model = project.version(2).model\n",
        "\n",
        "# Perform inference on a local image.\n",
        "response = model.predict(\"/content/IMG_20240123_181858.jpg.4le1b3td.ingestion-86fb79f59-l46tn.jpg\", confidence=40, overlap=30).json()\n",
        "\n",
        "# Initialize a dictionary to count occurrences of each class\n",
        "class_counts = {}\n",
        "\n",
        "# Iterate through each prediction and update the class count\n",
        "for prediction in response['predictions']:\n",
        "    class_name = prediction['class']\n",
        "    if class_name in class_counts:\n",
        "        class_counts[class_name] += 1\n",
        "    else:\n",
        "        class_counts[class_name] = 1\n",
        "\n",
        "# Now, estimate the number of rats based on the class of bones detected\n",
        "rat_ratios = {'skull': 1, 'pubis': 2, 'mandible': 2, 'femur': 2}\n",
        "total_estimated_rats = 0\n",
        "\n",
        "for bone_class, ratio in rat_ratios.items():\n",
        "    if bone_class in class_counts:\n",
        "        estimated_rats = class_counts[bone_class] / ratio\n",
        "        total_estimated_rats += estimated_rats\n",
        "        print(f\"Estimated number of rats from {bone_class}: {estimated_rats:.0f}\")\n",
        "\n",
        "# Round total estimated rats to nearest whole number since we can't have a fraction of a rat\n",
        "total_estimated_rats = round(total_estimated_rats)\n",
        "print(f\"Total estimated number of rats: {total_estimated_rats}\")\n",
        "\n",
        "# Note: Saving the visualization to \"prediction.jpg\" remains the same.\n",
        "model.predict(\"/content/IMG_20240123_181858.jpg.4le1b3td.ingestion-86fb79f59-l46tn.jpg\", confidence=40, overlap=30).save(\"prediction.jpg\")\n"
      ],
      "metadata": {
        "id": "J71GgfryAE-w"
      },
      "execution_count": null,
      "outputs": []
    },
    {
      "cell_type": "markdown",
      "source": [
        "Use this portion of the code if you use folder mount from Google drive"
      ],
      "metadata": {
        "id": "yPrTgpSDXcqL"
      }
    },
    {
      "cell_type": "code",
      "source": [
        "from google.colab import drive\n",
        "drive.mount('/content/drive')\n"
      ],
      "metadata": {
        "id": "eOqTFXRgXMQW"
      },
      "execution_count": null,
      "outputs": []
    },
    {
      "cell_type": "code",
      "source": [
        "# Path to the folder containing your images, adjust as necessary\n",
        "folder_path = '/content/drive/My Drive/YourFolderWithImages'\n",
        "\n",
        "# Import necessary libraries\n",
        "import os\n",
        "from roboflow import Roboflow\n",
        "\n",
        "# Initialize the Roboflow model\n",
        "rf = Roboflow(api_key=\"dZYpdUTWGu28oVor5nb9\")\n",
        "project = rf.workspace().project(\"rat-bones-object-detect-count\")\n",
        "model = project.version(2).model\n",
        "\n",
        "# Ratios for estimating the number of rats based on bone detection\n",
        "rat_ratios = {'skull': 1, 'pubis': 2, 'mandible': 2, 'femur': 2}\n",
        "\n",
        "# Variable to hold the aggregate estimated number of rats across all images\n",
        "total_aggregate_estimated_rats = 0\n"
      ],
      "metadata": {
        "id": "jJOS8b-uXTo-"
      },
      "execution_count": null,
      "outputs": []
    },
    {
      "cell_type": "code",
      "source": [
        "# Iterate over each file in the folder\n",
        "for filename in os.listdir(folder_path):\n",
        "    if filename.endswith(\".jpg\") or filename.endswith(\".png\"):  # Adjust as necessary for your image formats\n",
        "        image_path = os.path.join(folder_path, filename)\n",
        "\n",
        "        # Perform inference on the image\n",
        "        response = model.predict(image_path, confidence=40, overlap=30).json()\n",
        "\n",
        "        # Count occurrences of each class in the current image\n",
        "        class_counts = {}\n",
        "        for prediction in response['predictions']:\n",
        "            class_name = prediction['class']\n",
        "            if class_name in class_counts:\n",
        "                class_counts[class_name] += 1\n",
        "            else:\n",
        "                class_counts[class_name] = 1\n",
        "\n",
        "        # Estimate the number of rats for the current image\n",
        "        estimated_rats_current_image = sum(class_counts.get(bone_class, 0) / ratio for bone_class, ratio in rat_ratios.items())\n",
        "\n",
        "        # Update the total aggregate estimated number of rats\n",
        "        total_aggregate_estimated_rats += estimated_rats_current_image\n",
        "\n",
        "# Round total aggregate estimated rats to the nearest whole number\n",
        "total_aggregate_estimated_rats = round(total_aggregate_estimated_rats)\n",
        "print(f\"Total aggregate estimated number of rats across all images: {total_aggregate_estimated_rats}\")\n"
      ],
      "metadata": {
        "id": "VJNgiQPZXaRu"
      },
      "execution_count": null,
      "outputs": []
    },
    {
      "cell_type": "markdown",
      "source": [
        "This code is via direct model import from Roboflow Universe. However, you will need your own API key"
      ],
      "metadata": {
        "id": "LVKTm0u4eNja"
      }
    },
    {
      "cell_type": "code",
      "source": [
        "\n",
        "\n",
        "model = get_model(model_id=\"machine-learning-for-plant-animal-interaction/rat-bones-object-detect-count/2\", api_key=dZYpdUTWGu28oVor5nb9)"
      ],
      "metadata": {
        "colab": {
          "base_uri": "https://localhost:8080/",
          "height": 144
        },
        "id": "zJgPvfnqeiAP",
        "outputId": "051b8779-baf3-4ad2-ad77-3da3b4808320"
      },
      "execution_count": null,
      "outputs": [
        {
          "output_type": "error",
          "ename": "NameError",
          "evalue": "name 'get_model' is not defined",
          "traceback": [
            "\u001b[0;31m---------------------------------------------------------------------------\u001b[0m",
            "\u001b[0;31mNameError\u001b[0m                                 Traceback (most recent call last)",
            "\u001b[0;32m<ipython-input-3-caf151f6403b>\u001b[0m in \u001b[0;36m<cell line: 1>\u001b[0;34m()\u001b[0m\n\u001b[0;32m----> 1\u001b[0;31m \u001b[0mmodel\u001b[0m \u001b[0;34m=\u001b[0m \u001b[0mget_model\u001b[0m\u001b[0;34m(\u001b[0m\u001b[0mmodel_id\u001b[0m\u001b[0;34m=\u001b[0m\u001b[0;34m\"machine-learning-for-plant-animal-interaction/rat-bones-object-detect-count/2\"\u001b[0m\u001b[0;34m,\u001b[0m \u001b[0mapi_key\u001b[0m\u001b[0;34m=\u001b[0m\u001b[0mdZYpdUTWGu28oVor5nb9\u001b[0m\u001b[0;34m)\u001b[0m\u001b[0;34m\u001b[0m\u001b[0;34m\u001b[0m\u001b[0m\n\u001b[0m",
            "\u001b[0;31mNameError\u001b[0m: name 'get_model' is not defined"
          ]
        }
      ]
    }
  ]
}
